{
 "cells": [
  {
   "cell_type": "code",
   "execution_count": 6,
   "id": "f4b92b4d-6564-4364-9c76-4410b696b7ef",
   "metadata": {},
   "outputs": [
    {
     "name": "stdout",
     "output_type": "stream",
     "text": [
      "A soma de num1 e num2 é: 12\n"
     ]
    }
   ],
   "source": [
    "num1 = 5\n",
    "num2 = 7\n",
    "soma = num1 + num2\n",
    "print(\"A soma de num1 e num2 é:\", soma)\n"
   ]
  },
  {
   "cell_type": "code",
   "execution_count": 4,
   "id": "f4d2a2af-4ac9-4db0-ab24-2f5b75f0e3cb",
   "metadata": {},
   "outputs": [
    {
     "name": "stdout",
     "output_type": "stream",
     "text": [
      "A multiplicação de num1 e num2 é: 35\n"
     ]
    }
   ],
   "source": [
    "\n",
    "num1 = 5\n",
    "num2 = 7\n",
    "\n",
    "multiplicacao = num1 * num2\n",
    "\n",
    "print(\"A multiplicação de num1 e num2 é:\", multiplicacao)\n"
   ]
  },
  {
   "cell_type": "code",
   "execution_count": 8,
   "id": "492fb752-8e25-4638-8ab1-153d5b96c5e4",
   "metadata": {},
   "outputs": [
    {
     "name": "stdout",
     "output_type": "stream",
     "text": [
      "8.166666666666666\n"
     ]
    }
   ],
   "source": [
    "nota1 = 8\n",
    "nota2 = 7.5\n",
    "nota3 = 9\n",
    "media = (nota1 + nota2 + nota3) / 3\n",
    "print(media)\n"
   ]
  },
  {
   "cell_type": "code",
   "execution_count": 10,
   "id": "3a4e587f-77d6-4195-a3e9-c263963226f9",
   "metadata": {},
   "outputs": [
    {
     "name": "stdout",
     "output_type": "stream",
     "text": [
      "num1 é positivo\n"
     ]
    }
   ],
   "source": [
    "num1 = 5\n",
    "if num1 > 0:\n",
    "    print(\"num1 é positivo\")\n",
    "elif num1 < 0:\n",
    "    print(\"num1 é negativo\")\n",
    "else:\n",
    "    print(\"num1 é zero\")\n"
   ]
  },
  {
   "cell_type": "code",
   "execution_count": 12,
   "id": "288057cc-ba60-49d3-ab74-a0d283790d3a",
   "metadata": {},
   "outputs": [
    {
     "name": "stdout",
     "output_type": "stream",
     "text": [
      "num2 é ímpar\n"
     ]
    }
   ],
   "source": [
    "num2 = 7\n",
    "if num2 % 2 == 0:\n",
    "    print(\"num2 é par\")\n",
    "else:\n",
    "    print(\"num2 é ímpar\")\n"
   ]
  },
  {
   "cell_type": "code",
   "execution_count": 14,
   "id": "363bc035-f4b4-474b-84ae-7bebfe625458",
   "metadata": {},
   "outputs": [
    {
     "name": "stdout",
     "output_type": "stream",
     "text": [
      "Estudante aprovado\n"
     ]
    }
   ],
   "source": [
    "nota1 = 8\n",
    "nota2 = 7.5\n",
    "nota3 = 9\n",
    "media = (nota1 + nota2 + nota3) / 3\n",
    "\n",
    "if media >= 6.0:\n",
    "    print(\"Estudante aprovado\")\n",
    "elif 4.0 <= media < 6.0:\n",
    "    print(\"Estudante em recuperação\")\n",
    "else:\n",
    "    print(\"Estudante reprovado\")\n"
   ]
  },
  {
   "cell_type": "code",
   "execution_count": 18,
   "id": "3ca3fe0f-bd93-4d0c-acf6-872a24a1393d",
   "metadata": {},
   "outputs": [
    {
     "name": "stdout",
     "output_type": "stream",
     "text": [
      "Adulto\n"
     ]
    }
   ],
   "source": [
    "idade = 25\n",
    "\n",
    "if idade < 12:\n",
    "    print(\"Criança\")\n",
    "elif 12 <= idade < 18:\n",
    "    print(\"Adolescente\")\n",
    "elif 18 <= idade < 60:\n",
    "    print(\"Adulto\")\n",
    "else:\n",
    "    print(\"Idoso\")\n"
   ]
  },
  {
   "cell_type": "code",
   "execution_count": 20,
   "id": "1c0439d4-a0e2-48e2-aa56-ba2349ceffe4",
   "metadata": {},
   "outputs": [
    {
     "name": "stdout",
     "output_type": "stream",
     "text": [
      "1\n",
      "2\n",
      "3\n",
      "4\n",
      "5\n",
      "6\n",
      "7\n",
      "8\n",
      "9\n",
      "10\n"
     ]
    }
   ],
   "source": [
    "i = 1\n",
    "while i <= 10:\n",
    "    print(i)\n",
    "    i += 1\n"
   ]
  },
  {
   "cell_type": "code",
   "execution_count": 22,
   "id": "5455e2ed-4092-4b1a-92a9-ad47fd007415",
   "metadata": {},
   "outputs": [
    {
     "name": "stdout",
     "output_type": "stream",
     "text": [
      "1\n",
      "2\n",
      "3\n",
      "4\n",
      "5\n",
      "6\n",
      "7\n",
      "8\n",
      "9\n",
      "10\n"
     ]
    }
   ],
   "source": [
    "for i in range(1, 11):\n",
    "    print(i)\n"
   ]
  },
  {
   "cell_type": "code",
   "execution_count": 24,
   "id": "a74a9d11-2258-4569-9da9-2cd84c4f2e27",
   "metadata": {},
   "outputs": [
    {
     "name": "stdout",
     "output_type": "stream",
     "text": [
      "5 x 1 = 5\n",
      "5 x 2 = 10\n",
      "5 x 3 = 15\n",
      "5 x 4 = 20\n",
      "5 x 5 = 25\n",
      "5 x 6 = 30\n",
      "5 x 7 = 35\n",
      "5 x 8 = 40\n",
      "5 x 9 = 45\n",
      "5 x 10 = 50\n"
     ]
    }
   ],
   "source": [
    "num1 = 5\n",
    "for i in range(1, 11):\n",
    "    print(f\"{num1} x {i} = {num1 * i}\")\n"
   ]
  },
  {
   "cell_type": "code",
   "execution_count": 26,
   "id": "762dd08c-1e07-417d-b6a8-a9433b21dded",
   "metadata": {},
   "outputs": [
    {
     "name": "stdout",
     "output_type": "stream",
     "text": [
      "0\n",
      "10\n",
      "20\n",
      "30\n",
      "40\n",
      "50\n",
      "60\n",
      "70\n",
      "80\n",
      "90\n",
      "100\n"
     ]
    }
   ],
   "source": [
    "i = 0\n",
    "while i <= 100:\n",
    "    print(i)\n",
    "    i += 10\n"
   ]
  },
  {
   "cell_type": "code",
   "execution_count": 28,
   "id": "50793abf-fdda-4cfb-bc69-d27ea01169ef",
   "metadata": {},
   "outputs": [
    {
     "name": "stdout",
     "output_type": "stream",
     "text": [
      "0\n",
      "2\n",
      "4\n",
      "6\n",
      "8\n",
      "10\n",
      "12\n",
      "14\n",
      "16\n",
      "18\n",
      "20\n"
     ]
    }
   ],
   "source": [
    "for i in range(0, 21, 2):\n",
    "    print(i)\n"
   ]
  },
  {
   "cell_type": "code",
   "execution_count": 30,
   "id": "89f93338-60fb-4446-bbdb-f33e826ba18a",
   "metadata": {},
   "outputs": [
    {
     "name": "stdout",
     "output_type": "stream",
     "text": [
      "77.0\n"
     ]
    }
   ],
   "source": [
    "def celsius_para_fahrenheit(celsius):\n",
    "    fahrenheit = celsius * 1.8 + 32\n",
    "    return fahrenheit\n",
    "\n",
    "# Exemplo de uso da função\n",
    "temperatura_celsius = 25\n",
    "temperatura_fahrenheit = celsius_para_fahrenheit(temperatura_celsius)\n",
    "print(temperatura_fahrenheit)\n"
   ]
  },
  {
   "cell_type": "code",
   "execution_count": 32,
   "id": "18074aa5-919e-40c2-b73c-4a8608425ecd",
   "metadata": {},
   "outputs": [
    {
     "name": "stdin",
     "output_type": "stream",
     "text": [
      "Digite o primeiro número:  1\n",
      "Digite o segundo número:  2\n",
      "Digite a operação desejada (+, -, *, /):  +\n"
     ]
    },
    {
     "name": "stdout",
     "output_type": "stream",
     "text": [
      "3.0\n"
     ]
    }
   ],
   "source": [
    "def calculadora():\n",
    "    num1 = float(input(\"Digite o primeiro número: \"))\n",
    "    num2 = float(input(\"Digite o segundo número: \"))\n",
    "    operacao = input(\"Digite a operação desejada (+, -, *, /): \")\n",
    "\n",
    "    if operacao == '+':\n",
    "        resultado = num1 + num2\n",
    "    elif operacao == '-':\n",
    "        resultado = num1 - num2\n",
    "    elif operacao == '*':\n",
    "        resultado = num1 * num2\n",
    "    elif operacao == '/':\n",
    "        if num2 != 0:\n",
    "            resultado = num1 / num2\n",
    "        else:\n",
    "            return \"Divisão por zero não é permitida\"\n",
    "    else:\n",
    "        return \"Operação inválida\"\n",
    "\n",
    "    return resultado\n",
    "\n",
    "# Exemplo de uso da função\n",
    "print(calculadora())\n"
   ]
  },
  {
   "cell_type": "code",
   "execution_count": null,
   "id": "217f5138-ab18-4c21-ac4a-91d0dc2f6773",
   "metadata": {},
   "outputs": [],
   "source": []
  }
 ],
 "metadata": {
  "kernelspec": {
   "display_name": "Python [conda env:base] *",
   "language": "python",
   "name": "conda-base-py"
  },
  "language_info": {
   "codemirror_mode": {
    "name": "ipython",
    "version": 3
   },
   "file_extension": ".py",
   "mimetype": "text/x-python",
   "name": "python",
   "nbconvert_exporter": "python",
   "pygments_lexer": "ipython3",
   "version": "3.12.7"
  }
 },
 "nbformat": 4,
 "nbformat_minor": 5
}
